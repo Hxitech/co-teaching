{
  "nbformat": 4,
  "nbformat_minor": 0,
  "metadata": {
    "colab": {
      "name": "ResNet.ipynb",
      "provenance": [],
      "collapsed_sections": []
    },
    "kernelspec": {
      "name": "python3",
      "display_name": "Python 3"
    }
  },
  "cells": [
    {
      "cell_type": "code",
      "metadata": {
        "id": "GCdqk-Sr9rph",
        "colab_type": "code",
        "colab": {}
      },
      "source": [
        "import numpy as np\n",
        "from keras import layers\n",
        "from keras.layers import Input, Add, Dense, Activation, ZeroPadding2D, BatchNormalization, Flatten, Conv2D, AveragePooling2D, MaxPooling2D, GlobalMaxPooling2D\n",
        "from keras.models import Model, load_model\n",
        "from keras.initializers import glorot_uniform"
      ],
      "execution_count": 0,
      "outputs": []
    },
    {
      "cell_type": "code",
      "metadata": {
        "id": "11rBQqt2Cj-H",
        "colab_type": "code",
        "colab": {}
      },
      "source": [
        "def identity_block(X, f, filters, stage, block):\n",
        "\n",
        "    conv_name_base = 'res' + str(stage) + block + '_branch'\n",
        "    bn_name_base = 'bn' + str(stage) + block + '_branch'\n",
        " \n",
        "    F1, F2, F3 = filters\n",
        " \n",
        "    X_shortcut = X\n",
        " \n",
        "    X = Conv2D(filters = F1, kernel_size = (1,1), strides = (1,1), padding = 'valid', name = conv_name_base + '2a', kernel_initializer = glorot_uniform(seed = 0))(X)\n",
        "    X = BatchNormalization(axis = 3, name = bn_name_base + '2a')(X)\n",
        "    X = Activation('relu')(X)\n",
        " \n",
        "    X = Conv2D(filters = F2, kernel_size = (f,f), strides = (1,1), padding = 'same', name = conv_name_base + '2b', kernel_initializer = glorot_uniform(seed = 0))(X)\n",
        "    X = BatchNormalization(axis = 3, name = bn_name_base + '2b')(X)\n",
        "    X = Activation('relu')(X)\n",
        " \n",
        "    X = Conv2D(filters = F3, kernel_size = (1,1), strides = (1,1), padding = 'valid', name = conv_name_base + '2c', kernel_initializer = glorot_uniform(seed = 0))(X)\n",
        "    X = BatchNormalization(axis = 3, name = bn_name_base + '2c')(X)\n",
        " \n",
        "    X = Add()([X, X_shortcut])\n",
        "    X = Activation('relu')(X)\n",
        " \n",
        "    return X\n"
      ],
      "execution_count": 0,
      "outputs": []
    },
    {
      "cell_type": "code",
      "metadata": {
        "id": "feMj8kyXEAnw",
        "colab_type": "code",
        "colab": {}
      },
      "source": [
        "def convolution_block(X, f, filters, stage, block, s=2):\n",
        " \n",
        "    conv_name_base = 'res' + str(stage) + block + '_branch'\n",
        "    bn_name_base = 'bn' + str(stage) + block + '_branch'\n",
        "    F1, F2, F3 = filters\n",
        " \n",
        "    X_shortcut = X\n",
        " \n",
        "    X = Conv2D(filters = F1, kernel_size = (1,1), strides = (s,s), name = conv_name_base + '2a', kernel_initializer = glorot_uniform(seed = 0))(X)\n",
        "    X = BatchNormalization(axis = 3, name = bn_name_base + '2a')(X)\n",
        "    X = Activation('relu')(X)\n",
        " \n",
        "    X = Conv2D(filters = F2, kernel_size = (f,f), strides = (1,1), padding = 'same', name = conv_name_base + '2b', kernel_initializer = glorot_uniform(seed = 0))(X)\n",
        "    X = BatchNormalization(axis = 3, name = bn_name_base + '2b')(X)\n",
        "    X = Activation('relu')(X)\n",
        " \n",
        "    X = Conv2D(filters = F3, kernel_size = (1,1), strides = (1,1), name = conv_name_base + '2c', kernel_initializer = glorot_uniform(seed = 0))(X)\n",
        "    X = BatchNormalization(axis = 3, name = bn_name_base + '2c')(X)\n",
        " \n",
        "    X_shortcut = Conv2D(F3, (1,1), strides = (s,s), name = conv_name_base + '1', kernel_initializer = glorot_uniform(seed=0))(X_shortcut)\n",
        "    X_shortcut = BatchNormalization(axis = 3, name=bn_name_base + '1')(X_shortcut)\n",
        " \n",
        "    X = Add()([X, X_shortcut])\n",
        "    X = Activation('relu')(X)\n",
        " \n",
        "    return X"
      ],
      "execution_count": 0,
      "outputs": []
    },
    {
      "cell_type": "code",
      "metadata": {
        "id": "H-d7e5PtCswX",
        "colab_type": "code",
        "colab": {}
      },
      "source": [
        "def ResNet50(input_shape = (64, 64, 3), classes = 6):\n",
        " \n",
        "    X_input = Input(input_shape)\n",
        " \n",
        "    X = ZeroPadding2D((3, 3))(X_input)\n",
        " \n",
        "    X = Conv2D(64, (7, 7), strides = (2,2), name = 'conv1', kernel_initializer = glorot_uniform(seed=0))(X)\n",
        "    X = BatchNormalization(axis = 3, name = 'bn_conv1')(X)\n",
        "    X = Activation('relu')(X)\n",
        "    X = MaxPooling2D((3, 3), strides = (2,2))(X)\n",
        " \n",
        "    X = convolution_block(X, f = 3, filters = [64,64,256], stage = 2, block = 'a', s = 1)\n",
        "    X = identity_block(X, 3, [64,64,256], stage=2, block='b')\n",
        "    X = identity_block(X, 3, [64,64,256], stage=2, block='c')\n",
        " \n",
        "    X = convolution_block(X, f = 3, filters = [128,128,512], stage = 3, block = 'a', s = 2)\n",
        "    X = identity_block(X, 3, [128,128,512], stage=3, block='b')\n",
        "    X = identity_block(X, 3, [128,128,512], stage=3, block='c')\n",
        "    X = identity_block(X, 3, [128,128,512], stage=3, block='d')\n",
        " \n",
        "    X = convolution_block(X, f = 3, filters = [256,256,1024], stage = 4, block = 'a', s = 2)\n",
        "    X = identity_block(X, 3, [256,256,1024], stage=4, block='b')\n",
        "    X = identity_block(X, 3, [256,256,1024], stage=4, block='c')\n",
        "    X = identity_block(X, 3, [256,256,1024], stage=4, block='d')    \n",
        "    X = identity_block(X, 3, [256,256,1024], stage=4, block='e')\n",
        "    X = identity_block(X, 3, [256,256,1024], stage=4, block='f')\n",
        " \n",
        "    X = convolution_block(X, f = 3, filters = [512,512,2048], stage = 5, block = 'a', s = 2)\n",
        "    X = identity_block(X, 3, [512,512,2048], stage=5, block='b')\n",
        "    X = identity_block(X, 3, [512,512,2048], stage=5, block='c')\n",
        " \n",
        "    X = AveragePooling2D((2, 2), name='avg_pool')(X)\n",
        " \n",
        "    X = Flatten()(X)\n",
        "    X = Dense(classes, activation = 'softmax', name = 'fc' + str(classes), kernel_initializer = glorot_uniform(seed=0))(X)\n",
        " \n",
        "    model = Model(inputs = X_input, outputs = X, name = 'ResNet50')\n",
        " \n",
        "    return model"
      ],
      "execution_count": 0,
      "outputs": []
    },
    {
      "cell_type": "code",
      "metadata": {
        "id": "NJk_SjJGC-ph",
        "colab_type": "code",
        "colab": {}
      },
      "source": [
        "ResNet50(input_shape = (64, 64, 3), classes = 6).summary()"
      ],
      "execution_count": 0,
      "outputs": []
    }
  ]
}
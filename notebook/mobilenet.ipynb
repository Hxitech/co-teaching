{
  "nbformat": 4,
  "nbformat_minor": 0,
  "metadata": {
    "colab": {
      "name": "mobilenet.ipynb",
      "provenance": [],
      "collapsed_sections": []
    },
    "kernelspec": {
      "name": "python3",
      "display_name": "Python 3"
    }
  },
  "cells": [
    {
      "cell_type": "code",
      "metadata": {
        "id": "jmwtDlBThGVR",
        "colab_type": "code",
        "colab": {}
      },
      "source": [
        "import tensorflow as tf\n",
        "from tensorflow.keras import models, layers\n",
        "# As per Co-training, all leaky Relu has slope of 0.01\n",
        "lrelu = lambda features : tf.nn.leaky_relu(features, alpha=0.01)\n",
        "\n",
        "def MobileNet():\n",
        "    model = models.Sequential()\n",
        "    model.add(layers.Conv2D(32, 3, strides=2, padding='same', input_shape=(224, 224, 3)))\n",
        "    model.add(layers.DepthwiseConv2D(32, 1,padding='same'))\n",
        "    model.add(layers.Conv2D(64, (1, 1), strides=1, padding='same'))\n",
        "    model.add(layers.DepthwiseConv2D(64, 2, padding='same'))\n",
        "    model.add(layers.Conv2D(128, 1, strides=1, padding='same'))\n",
        "    model.add(layers.DepthwiseConv2D(128, 1,padding='same'))\n",
        "\n",
        "    model.add(layers.Conv2D(128, (1, 1), strides=1, padding='same'))\n",
        "    model.add(layers.DepthwiseConv2D(128, 2,padding='same'))\n",
        "    model.add(layers.Conv2D(256, (1, 1), strides=1, padding='same'))\n",
        "    model.add(layers.DepthwiseConv2D(256, 1,padding='same'))\n",
        "    model.add(layers.Conv2D(256, (1, 1), strides=1, padding='same'))\n",
        "    model.add(layers.DepthwiseConv2D(256, 2,padding='same'))\n",
        "\n",
        "    model.add(layers.Conv2D(512, (1, 1), strides=1, padding='same'))\n",
        "    model.add(layers.DepthwiseConv2D(512, 1,padding='same'))\n",
        "    model.add(layers.Conv2D(512, (1, 1), strides=1, padding='same'))\n",
        "    model.add(layers.DepthwiseConv2D(512, 1,padding='same'))\n",
        "    model.add(layers.Conv2D(512, (1, 1), strides=1, padding='same'))\n",
        "    model.add(layers.DepthwiseConv2D(512, 1,padding='same'))\n",
        "    model.add(layers.Conv2D(512, (1, 1), strides=1, padding='same'))\n",
        "    model.add(layers.DepthwiseConv2D(512, 1,padding='same'))\n",
        "    model.add(layers.Conv2D(512, (1, 1), strides=1, padding='same'))\n",
        "    model.add(layers.DepthwiseConv2D(512, 1,padding='same'))\n",
        "    model.add(layers.Conv2D(512, (1, 1), strides=1, padding='same'))\n",
        "    model.add(layers.DepthwiseConv2D(512, 2,padding='same'))\n",
        "\n",
        "    model.add(layers.Conv2D(1024, (1, 1), strides=1, padding='same'))\n",
        "    model.add(layers.DepthwiseConv2D(1024, 1,padding='same'))\n",
        "    model.add(layers.Conv2D(1024, (1, 1), strides=1, padding='same'))\n",
        "    model.add(layers.AveragePooling2D(pool_size=(7,7), strides=1, padding=\"valid\"))\n",
        "    model.add(layers.Dense(1024, activation=tf.nn.relu))\n",
        "    model.add(layers.Dense(1000, activation=tf.nn.softmax))\n",
        "    return model"
      ],
      "execution_count": 0,
      "outputs": []
    },
    {
      "cell_type": "code",
      "metadata": {
        "id": "N1_CAptIjdom",
        "colab_type": "code",
        "outputId": "028e07a6-4d88-4dbb-8f17-0f0d126c3c3b",
        "colab": {
          "base_uri": "https://localhost:8080/",
          "height": 1000
        }
      },
      "source": [
        "MobileNet().summary()"
      ],
      "execution_count": 47,
      "outputs": [
        {
          "output_type": "stream",
          "text": [
            "Model: \"sequential_22\"\n",
            "_________________________________________________________________\n",
            "Layer (type)                 Output Shape              Param #   \n",
            "=================================================================\n",
            "conv2d_146 (Conv2D)          (None, 112, 112, 32)      896       \n",
            "_________________________________________________________________\n",
            "depthwise_conv2d_127 (Depthw (None, 112, 112, 32)      32800     \n",
            "_________________________________________________________________\n",
            "conv2d_147 (Conv2D)          (None, 112, 112, 64)      2112      \n",
            "_________________________________________________________________\n",
            "depthwise_conv2d_128 (Depthw (None, 56, 56, 64)        262208    \n",
            "_________________________________________________________________\n",
            "conv2d_148 (Conv2D)          (None, 56, 56, 128)       8320      \n",
            "_________________________________________________________________\n",
            "depthwise_conv2d_129 (Depthw (None, 56, 56, 128)       2097280   \n",
            "_________________________________________________________________\n",
            "conv2d_149 (Conv2D)          (None, 56, 56, 128)       16512     \n",
            "_________________________________________________________________\n",
            "depthwise_conv2d_130 (Depthw (None, 28, 28, 128)       2097280   \n",
            "_________________________________________________________________\n",
            "conv2d_150 (Conv2D)          (None, 28, 28, 256)       33024     \n",
            "_________________________________________________________________\n",
            "depthwise_conv2d_131 (Depthw (None, 28, 28, 256)       16777472  \n",
            "_________________________________________________________________\n",
            "conv2d_151 (Conv2D)          (None, 28, 28, 256)       65792     \n",
            "_________________________________________________________________\n",
            "depthwise_conv2d_132 (Depthw (None, 14, 14, 256)       16777472  \n",
            "_________________________________________________________________\n",
            "conv2d_152 (Conv2D)          (None, 14, 14, 512)       131584    \n",
            "_________________________________________________________________\n",
            "depthwise_conv2d_133 (Depthw (None, 14, 14, 512)       134218240 \n",
            "_________________________________________________________________\n",
            "conv2d_153 (Conv2D)          (None, 14, 14, 512)       262656    \n",
            "_________________________________________________________________\n",
            "depthwise_conv2d_134 (Depthw (None, 14, 14, 512)       134218240 \n",
            "_________________________________________________________________\n",
            "conv2d_154 (Conv2D)          (None, 14, 14, 512)       262656    \n",
            "_________________________________________________________________\n",
            "depthwise_conv2d_135 (Depthw (None, 14, 14, 512)       134218240 \n",
            "_________________________________________________________________\n",
            "conv2d_155 (Conv2D)          (None, 14, 14, 512)       262656    \n",
            "_________________________________________________________________\n",
            "depthwise_conv2d_136 (Depthw (None, 14, 14, 512)       134218240 \n",
            "_________________________________________________________________\n",
            "conv2d_156 (Conv2D)          (None, 14, 14, 512)       262656    \n",
            "_________________________________________________________________\n",
            "depthwise_conv2d_137 (Depthw (None, 14, 14, 512)       134218240 \n",
            "_________________________________________________________________\n",
            "conv2d_157 (Conv2D)          (None, 14, 14, 512)       262656    \n",
            "_________________________________________________________________\n",
            "depthwise_conv2d_138 (Depthw (None, 7, 7, 512)         134218240 \n",
            "_________________________________________________________________\n",
            "conv2d_158 (Conv2D)          (None, 7, 7, 1024)        525312    \n",
            "_________________________________________________________________\n",
            "depthwise_conv2d_139 (Depthw (None, 7, 7, 1024)        1073742848\n",
            "_________________________________________________________________\n",
            "conv2d_159 (Conv2D)          (None, 7, 7, 1024)        1049600   \n",
            "_________________________________________________________________\n",
            "average_pooling2d_3 (Average (None, 1, 1, 1024)        0         \n",
            "_________________________________________________________________\n",
            "dense_2 (Dense)              (None, 1, 1, 1024)        1049600   \n",
            "_________________________________________________________________\n",
            "dense_3 (Dense)              (None, 1, 1, 1000)        1025000   \n",
            "=================================================================\n",
            "Total params: 1,922,317,832\n",
            "Trainable params: 1,922,317,832\n",
            "Non-trainable params: 0\n",
            "_________________________________________________________________\n"
          ],
          "name": "stdout"
        }
      ]
    },
    {
      "cell_type": "markdown",
      "metadata": {
        "id": "4gMqvOY_Tj6K",
        "colab_type": "text"
      },
      "source": [
        "https://blog.csdn.net/u011974639/article/details/79199306\n",
        "\n",
        "https://arxiv.org/pdf/1704.04861.pdf\n",
        "\n",
        "https://keras-zh.readthedocs.io/layers/convolutional/"
      ]
    }
  ]
}